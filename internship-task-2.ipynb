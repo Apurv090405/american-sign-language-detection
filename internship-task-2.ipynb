{
 "cells": [
  {
   "cell_type": "markdown",
   "id": "3aba313f-b56f-425e-b0fe-c3fa3ddad845",
   "metadata": {},
   "source": [
    "# Internship Task - 2"
   ]
  },
  {
   "cell_type": "markdown",
   "id": "ed67d29b-fdc7-402d-8577-f8b1c4f33b07",
   "metadata": {},
   "source": [
    "### Install and imnport the Lib"
   ]
  },
  {
   "cell_type": "code",
   "execution_count": 1,
   "id": "a0be666f",
   "metadata": {
    "execution": {
     "iopub.execute_input": "2023-01-06T08:31:29.363791Z",
     "iopub.status.busy": "2023-01-06T08:31:29.363362Z",
     "iopub.status.idle": "2023-01-06T08:31:29.368715Z",
     "shell.execute_reply": "2023-01-06T08:31:29.367833Z"
    },
    "id": "K3DH608KkPke",
    "papermill": {
     "duration": 0.017279,
     "end_time": "2023-01-06T08:31:29.371315",
     "exception": false,
     "start_time": "2023-01-06T08:31:29.354036",
     "status": "completed"
    },
    "tags": []
   },
   "outputs": [],
   "source": [
    "# !pip install -q kaggle\n",
    "# !pip install -U keras-efficientnet-v2 -q"
   ]
  },
  {
   "cell_type": "code",
   "execution_count": 2,
   "id": "690ce24b",
   "metadata": {
    "_cell_guid": "b1076dfc-b9ad-4769-8c92-a6c4dae69d19",
    "_uuid": "8f2839f25d086af736a60e9eeb907d3b93b6e0e5",
    "execution": {
     "iopub.execute_input": "2023-01-06T08:31:29.385656Z",
     "iopub.status.busy": "2023-01-06T08:31:29.385409Z",
     "iopub.status.idle": "2023-01-06T08:31:36.396012Z",
     "shell.execute_reply": "2023-01-06T08:31:36.395039Z"
    },
    "id": "uQXlTeDti6Es",
    "papermill": {
     "duration": 7.0203,
     "end_time": "2023-01-06T08:31:36.398348",
     "exception": false,
     "start_time": "2023-01-06T08:31:29.378048",
     "status": "completed"
    },
    "tags": []
   },
   "outputs": [],
   "source": [
    "import numpy as np\n",
    "import pandas as pd\n",
    "import matplotlib.pyplot as plt\n",
    "import seaborn as sns\n",
    "import os\n",
    "import tensorflow as tf\n",
    "import tensorflow_hub as hub\n",
    "import cv2\n",
    "from sklearn.model_selection import train_test_split\n",
    "# import keras_efficientnet_v2\n",
    "from tensorflow.keras.applications import efficientnet\n",
    "from tensorflow.keras.models import Sequential, load_model\n",
    "from tensorflow.keras.layers import Dense, Activation, Conv2D, Flatten, Dropout, MaxPooling2D, BatchNormalization, GlobalAveragePooling2D, Input\n",
    "from tensorflow.keras.preprocessing.image import ImageDataGenerator\n",
    "from keras import regularizers\n",
    "from tensorflow.keras import metrics, optimizers, Sequential, activations, callbacks\n",
    "from sklearn.metrics import f1_score, classification_report, confusion_matrix, accuracy_score\n",
    "import keras.backend as K\n",
    "from tensorflow import keras\n",
    "import warnings\n",
    "warnings.filterwarnings('ignore')"
   ]
  },
  {
   "cell_type": "markdown",
   "id": "aa5231d7",
   "metadata": {
    "id": "nWqjnE2Ti6Ex",
    "papermill": {
     "duration": 0.006449,
     "end_time": "2023-01-06T08:31:36.412231",
     "exception": false,
     "start_time": "2023-01-06T08:31:36.405782",
     "status": "completed"
    },
    "tags": []
   },
   "source": [
    "# Getting the data"
   ]
  },
  {
   "cell_type": "code",
   "execution_count": 3,
   "id": "35e843c2",
   "metadata": {
    "execution": {
     "iopub.execute_input": "2023-01-06T08:31:36.427114Z",
     "iopub.status.busy": "2023-01-06T08:31:36.426595Z",
     "iopub.status.idle": "2023-01-06T08:31:36.430949Z",
     "shell.execute_reply": "2023-01-06T08:31:36.429932Z"
    },
    "id": "Sqdjn7i1KUDw",
    "outputId": "472e6387-6ca1-41e7-9513-1d73e5827a69",
    "papermill": {
     "duration": 0.014566,
     "end_time": "2023-01-06T08:31:36.433542",
     "exception": false,
     "start_time": "2023-01-06T08:31:36.418976",
     "status": "completed"
    },
    "tags": []
   },
   "outputs": [],
   "source": [
    "# !rm -r ~/.kaggle\n",
    "# !mkdir ~/.kaggle\n",
    "# !mv ./kaggle.json ~/.kaggle/\n",
    "# !chmod 600 ~/.kaggle/kaggle.json"
   ]
  },
  {
   "cell_type": "code",
   "execution_count": 4,
   "id": "083cd66a",
   "metadata": {
    "execution": {
     "iopub.execute_input": "2023-01-06T08:31:36.448091Z",
     "iopub.status.busy": "2023-01-06T08:31:36.447818Z",
     "iopub.status.idle": "2023-01-06T08:31:36.452095Z",
     "shell.execute_reply": "2023-01-06T08:31:36.451045Z"
    },
    "id": "DM7QFUSOkjGV",
    "outputId": "87b1a983-c4fb-4815-e81a-be391a02bd9f",
    "papermill": {
     "duration": 0.013788,
     "end_time": "2023-01-06T08:31:36.454038",
     "exception": false,
     "start_time": "2023-01-06T08:31:36.440250",
     "status": "completed"
    },
    "tags": []
   },
   "outputs": [],
   "source": [
    "# !kaggle datasets download lexset/synthetic-asl-alphabet"
   ]
  },
  {
   "cell_type": "code",
   "execution_count": 5,
   "id": "17af179e",
   "metadata": {
    "execution": {
     "iopub.execute_input": "2023-01-06T08:31:36.468928Z",
     "iopub.status.busy": "2023-01-06T08:31:36.468304Z",
     "iopub.status.idle": "2023-01-06T08:31:36.472329Z",
     "shell.execute_reply": "2023-01-06T08:31:36.471207Z"
    },
    "id": "33fiynljnBJ-",
    "papermill": {
     "duration": 0.014045,
     "end_time": "2023-01-06T08:31:36.474768",
     "exception": false,
     "start_time": "2023-01-06T08:31:36.460723",
     "status": "completed"
    },
    "tags": []
   },
   "outputs": [],
   "source": [
    "# !unzip -qq \"synthetic-asl-alphabet.zip\" -d \"synthetic-asl-alphabet\""
   ]
  },
  {
   "cell_type": "code",
   "execution_count": 6,
   "id": "1c97123f",
   "metadata": {
    "execution": {
     "iopub.execute_input": "2023-01-06T08:31:36.489145Z",
     "iopub.status.busy": "2023-01-06T08:31:36.488894Z",
     "iopub.status.idle": "2023-01-06T08:31:36.494295Z",
     "shell.execute_reply": "2023-01-06T08:31:36.493444Z"
    },
    "id": "7WiFhEHbi6E0",
    "papermill": {
     "duration": 0.014822,
     "end_time": "2023-01-06T08:31:36.496163",
     "exception": false,
     "start_time": "2023-01-06T08:31:36.481341",
     "status": "completed"
    },
    "tags": []
   },
   "outputs": [],
   "source": [
    "train_dir = '/kaggle/input/synthetic-asl-alphabet/Train_Alphabet'\n",
    "test_dir = '/kaggle/input/synthetic-asl-alphabet/Test_Alphabet'"
   ]
  },
  {
   "cell_type": "code",
   "execution_count": 7,
   "id": "b441412d",
   "metadata": {
    "execution": {
     "iopub.execute_input": "2023-01-06T08:31:36.513118Z",
     "iopub.status.busy": "2023-01-06T08:31:36.511707Z",
     "iopub.status.idle": "2023-01-06T08:31:43.750893Z",
     "shell.execute_reply": "2023-01-06T08:31:43.749932Z"
    },
    "id": "BC9iCr66i6E1",
    "papermill": {
     "duration": 7.249817,
     "end_time": "2023-01-06T08:31:43.753909",
     "exception": false,
     "start_time": "2023-01-06T08:31:36.504092",
     "status": "completed"
    },
    "tags": []
   },
   "outputs": [],
   "source": [
    "def load_df(dir_path):\n",
    "    df = {\n",
    "        'filename': [],\n",
    "        'label': []\n",
    "    }\n",
    "    classes = os.listdir(dir_path)\n",
    "    for c in classes:\n",
    "        path = dir_path + '/' + c\n",
    "\n",
    "        img_paths = os.listdir(path)\n",
    "\n",
    "        for img_path in img_paths:\n",
    "            df['filename'].append(c + '/' + img_path)\n",
    "            df['label'].append(c)\n",
    "        \n",
    "    df = pd.DataFrame(df)\n",
    "    return df\n",
    "\n",
    "train_df = load_df(train_dir)\n",
    "test_df = load_df(test_dir)"
   ]
  },
  {
   "cell_type": "code",
   "execution_count": 8,
   "id": "1e78aa12",
   "metadata": {
    "execution": {
     "iopub.execute_input": "2023-01-06T08:31:43.768366Z",
     "iopub.status.busy": "2023-01-06T08:31:43.768064Z",
     "iopub.status.idle": "2023-01-06T08:31:43.786938Z",
     "shell.execute_reply": "2023-01-06T08:31:43.785942Z"
    },
    "id": "SortTGGEi6E2",
    "outputId": "25781d2d-d35d-4fb9-c328-7a7022490b34",
    "papermill": {
     "duration": 0.029318,
     "end_time": "2023-01-06T08:31:43.789926",
     "exception": false,
     "start_time": "2023-01-06T08:31:43.760608",
     "status": "completed"
    },
    "tags": []
   },
   "outputs": [
    {
     "data": {
      "text/html": [
       "<div>\n",
       "<style scoped>\n",
       "    .dataframe tbody tr th:only-of-type {\n",
       "        vertical-align: middle;\n",
       "    }\n",
       "\n",
       "    .dataframe tbody tr th {\n",
       "        vertical-align: top;\n",
       "    }\n",
       "\n",
       "    .dataframe thead th {\n",
       "        text-align: right;\n",
       "    }\n",
       "</style>\n",
       "<table border=\"1\" class=\"dataframe\">\n",
       "  <thead>\n",
       "    <tr style=\"text-align: right;\">\n",
       "      <th></th>\n",
       "      <th>filename</th>\n",
       "      <th>label</th>\n",
       "    </tr>\n",
       "  </thead>\n",
       "  <tbody>\n",
       "    <tr>\n",
       "      <th>8944</th>\n",
       "      <td>X/8e5d20e5-109c-4bd7-9e66-8f0d1b16080f.rgb_000...</td>\n",
       "      <td>X</td>\n",
       "    </tr>\n",
       "    <tr>\n",
       "      <th>6525</th>\n",
       "      <td>U/998bfaa6-0fd4-495a-b66c-0e522864baca.rgb_000...</td>\n",
       "      <td>U</td>\n",
       "    </tr>\n",
       "    <tr>\n",
       "      <th>4929</th>\n",
       "      <td>H/885c0cf6-84e0-4cfa-ad2e-523a4d7b4467.rgb_000...</td>\n",
       "      <td>H</td>\n",
       "    </tr>\n",
       "    <tr>\n",
       "      <th>8918</th>\n",
       "      <td>X/a94d77e6-1fdf-4fc0-bc7a-0a04e15db8d5.rgb_000...</td>\n",
       "      <td>X</td>\n",
       "    </tr>\n",
       "    <tr>\n",
       "      <th>10763</th>\n",
       "      <td>Q/0d99d487-da2f-4fc8-9521-a88dcd75283c.rgb_000...</td>\n",
       "      <td>Q</td>\n",
       "    </tr>\n",
       "  </tbody>\n",
       "</table>\n",
       "</div>"
      ],
      "text/plain": [
       "                                                filename label\n",
       "8944   X/8e5d20e5-109c-4bd7-9e66-8f0d1b16080f.rgb_000...     X\n",
       "6525   U/998bfaa6-0fd4-495a-b66c-0e522864baca.rgb_000...     U\n",
       "4929   H/885c0cf6-84e0-4cfa-ad2e-523a4d7b4467.rgb_000...     H\n",
       "8918   X/a94d77e6-1fdf-4fc0-bc7a-0a04e15db8d5.rgb_000...     X\n",
       "10763  Q/0d99d487-da2f-4fc8-9521-a88dcd75283c.rgb_000...     Q"
      ]
     },
     "execution_count": 8,
     "metadata": {},
     "output_type": "execute_result"
    }
   ],
   "source": [
    "train_df.sample(5)"
   ]
  },
  {
   "cell_type": "markdown",
   "id": "a3df951c",
   "metadata": {
    "id": "JUvh89r0i6E5",
    "papermill": {
     "duration": 0.006348,
     "end_time": "2023-01-06T08:31:43.803057",
     "exception": false,
     "start_time": "2023-01-06T08:31:43.796709",
     "status": "completed"
    },
    "tags": []
   },
   "source": [
    "# Split train-valid"
   ]
  },
  {
   "cell_type": "code",
   "execution_count": 9,
   "id": "b8dc93fa",
   "metadata": {
    "execution": {
     "iopub.execute_input": "2023-01-06T08:31:43.817496Z",
     "iopub.status.busy": "2023-01-06T08:31:43.817239Z",
     "iopub.status.idle": "2023-01-06T08:31:43.845949Z",
     "shell.execute_reply": "2023-01-06T08:31:43.844956Z"
    },
    "id": "Jt8-sgl2i6E6",
    "outputId": "ab300b3e-edcb-4a59-9fa2-1b0956fc164e",
    "papermill": {
     "duration": 0.03852,
     "end_time": "2023-01-06T08:31:43.848239",
     "exception": false,
     "start_time": "2023-01-06T08:31:43.809719",
     "status": "completed"
    },
    "tags": []
   },
   "outputs": [
    {
     "name": "stdout",
     "output_type": "stream",
     "text": [
      "(19440,)\n",
      "(4860,)\n"
     ]
    }
   ],
   "source": [
    "X = train_df['filename']\n",
    "y = train_df['label']\n",
    "\n",
    "X_train, X_valid, y_train, y_valid = train_test_split(X, y, stratify=y, random_state=1, test_size=0.2)\n",
    "print(X_train.shape)\n",
    "print(X_valid.shape)"
   ]
  },
  {
   "cell_type": "code",
   "execution_count": 10,
   "id": "355633c7",
   "metadata": {
    "execution": {
     "iopub.execute_input": "2023-01-06T08:31:43.863125Z",
     "iopub.status.busy": "2023-01-06T08:31:43.862857Z",
     "iopub.status.idle": "2023-01-06T08:31:43.870498Z",
     "shell.execute_reply": "2023-01-06T08:31:43.869684Z"
    },
    "id": "i3NHHcONi6E7",
    "papermill": {
     "duration": 0.01743,
     "end_time": "2023-01-06T08:31:43.872626",
     "exception": false,
     "start_time": "2023-01-06T08:31:43.855196",
     "status": "completed"
    },
    "tags": []
   },
   "outputs": [],
   "source": [
    "train = pd.concat([X_train, y_train], axis=1)\n",
    "valid = pd.concat([X_valid, y_valid], axis=1)\n",
    "test = test_df"
   ]
  },
  {
   "cell_type": "code",
   "execution_count": 11,
   "id": "b3aa8580",
   "metadata": {
    "execution": {
     "iopub.execute_input": "2023-01-06T08:31:43.886944Z",
     "iopub.status.busy": "2023-01-06T08:31:43.886690Z",
     "iopub.status.idle": "2023-01-06T08:31:43.898518Z",
     "shell.execute_reply": "2023-01-06T08:31:43.897648Z"
    },
    "id": "z5o7b1ZqJxxq",
    "outputId": "b88b9899-6cc7-45fe-9b54-11613c295b24",
    "papermill": {
     "duration": 0.021202,
     "end_time": "2023-01-06T08:31:43.900402",
     "exception": false,
     "start_time": "2023-01-06T08:31:43.879200",
     "status": "completed"
    },
    "tags": []
   },
   "outputs": [
    {
     "data": {
      "text/plain": [
       "E        720\n",
       "K        720\n",
       "O        720\n",
       "M        720\n",
       "X        720\n",
       "P        720\n",
       "N        720\n",
       "B        720\n",
       "W        720\n",
       "S        720\n",
       "Z        720\n",
       "V        720\n",
       "G        720\n",
       "D        720\n",
       "Y        720\n",
       "J        720\n",
       "L        720\n",
       "U        720\n",
       "A        720\n",
       "C        720\n",
       "R        720\n",
       "H        720\n",
       "Blank    720\n",
       "I        720\n",
       "T        720\n",
       "F        720\n",
       "Q        720\n",
       "Name: label, dtype: int64"
      ]
     },
     "execution_count": 11,
     "metadata": {},
     "output_type": "execute_result"
    }
   ],
   "source": [
    "train['label'].value_counts()"
   ]
  },
  {
   "cell_type": "code",
   "execution_count": 12,
   "id": "58ddce27",
   "metadata": {
    "execution": {
     "iopub.execute_input": "2023-01-06T08:31:43.915313Z",
     "iopub.status.busy": "2023-01-06T08:31:43.915063Z",
     "iopub.status.idle": "2023-01-06T08:31:43.922232Z",
     "shell.execute_reply": "2023-01-06T08:31:43.921327Z"
    },
    "id": "_o9oNu1aJ0-y",
    "outputId": "ba142378-3199-45d8-9f81-a3221a46ab58",
    "papermill": {
     "duration": 0.016728,
     "end_time": "2023-01-06T08:31:43.924153",
     "exception": false,
     "start_time": "2023-01-06T08:31:43.907425",
     "status": "completed"
    },
    "tags": []
   },
   "outputs": [
    {
     "data": {
      "text/plain": [
       "C        180\n",
       "B        180\n",
       "A        180\n",
       "G        180\n",
       "X        180\n",
       "I        180\n",
       "K        180\n",
       "Y        180\n",
       "P        180\n",
       "H        180\n",
       "T        180\n",
       "O        180\n",
       "U        180\n",
       "E        180\n",
       "J        180\n",
       "L        180\n",
       "Q        180\n",
       "V        180\n",
       "M        180\n",
       "R        180\n",
       "S        180\n",
       "F        180\n",
       "D        180\n",
       "W        180\n",
       "Blank    180\n",
       "N        180\n",
       "Z        180\n",
       "Name: label, dtype: int64"
      ]
     },
     "execution_count": 12,
     "metadata": {},
     "output_type": "execute_result"
    }
   ],
   "source": [
    "valid['label'].value_counts()"
   ]
  },
  {
   "cell_type": "code",
   "execution_count": 13,
   "id": "07aefc29",
   "metadata": {
    "execution": {
     "iopub.execute_input": "2023-01-06T08:31:43.939738Z",
     "iopub.status.busy": "2023-01-06T08:31:43.938887Z",
     "iopub.status.idle": "2023-01-06T08:31:43.946535Z",
     "shell.execute_reply": "2023-01-06T08:31:43.945559Z"
    },
    "id": "lkcynaP4J23U",
    "outputId": "ca31e4fd-789f-4a9a-99ed-5241d22021ac",
    "papermill": {
     "duration": 0.017475,
     "end_time": "2023-01-06T08:31:43.948451",
     "exception": false,
     "start_time": "2023-01-06T08:31:43.930976",
     "status": "completed"
    },
    "tags": []
   },
   "outputs": [
    {
     "data": {
      "text/plain": [
       "N        100\n",
       "S        100\n",
       "D        100\n",
       "W        100\n",
       "L        100\n",
       "P        100\n",
       "C        100\n",
       "Z        100\n",
       "V        100\n",
       "T        100\n",
       "O        100\n",
       "A        100\n",
       "G        100\n",
       "Blank    100\n",
       "R        100\n",
       "Y        100\n",
       "Q        100\n",
       "K        100\n",
       "X        100\n",
       "M        100\n",
       "U        100\n",
       "E        100\n",
       "H        100\n",
       "F        100\n",
       "I        100\n",
       "B        100\n",
       "J        100\n",
       "Name: label, dtype: int64"
      ]
     },
     "execution_count": 13,
     "metadata": {},
     "output_type": "execute_result"
    }
   ],
   "source": [
    "test['label'].value_counts()"
   ]
  },
  {
   "cell_type": "code",
   "execution_count": 14,
   "id": "3c36b9fa",
   "metadata": {
    "execution": {
     "iopub.execute_input": "2023-01-06T08:31:43.963982Z",
     "iopub.status.busy": "2023-01-06T08:31:43.963132Z",
     "iopub.status.idle": "2023-01-06T08:32:48.610684Z",
     "shell.execute_reply": "2023-01-06T08:32:48.609400Z"
    },
    "id": "wDpnFjnLi6E7",
    "outputId": "2032a321-fd59-46fc-e35f-35fe61bbf72c",
    "papermill": {
     "duration": 64.657459,
     "end_time": "2023-01-06T08:32:48.613015",
     "exception": false,
     "start_time": "2023-01-06T08:31:43.955556",
     "status": "completed"
    },
    "tags": []
   },
   "outputs": [
    {
     "name": "stdout",
     "output_type": "stream",
     "text": [
      "Found 19440 validated image filenames belonging to 27 classes.\n",
      "Found 4860 validated image filenames belonging to 27 classes.\n",
      "Found 2700 validated image filenames.\n"
     ]
    }
   ],
   "source": [
    "IMAGE_SIZE = (224, 224)\n",
    "\n",
    "datagen = ImageDataGenerator(\n",
    "    rescale=1./255,\n",
    "#     rotation_range=40,\n",
    "    zoom_range=0.2,\n",
    "    width_shift_range=0.05,\n",
    "    height_shift_range=0.05,\n",
    "#     brightness_range=[0.5, 1.0],\n",
    ")\n",
    "\n",
    "train_generator = datagen.flow_from_dataframe(\n",
    "    dataframe = train,\n",
    "    directory = train_dir,\n",
    "    x_col='filename',\n",
    "    y_col='label',\n",
    "    batch_size=32,\n",
    "    # color_mode=\"rgb\",\n",
    "    seed=42,\n",
    "    shuffle=True,\n",
    "    class_mode='sparse',\n",
    "    target_size=IMAGE_SIZE\n",
    ")\n",
    "\n",
    "valid_generator=datagen.flow_from_dataframe(\n",
    "    dataframe=valid,\n",
    "    directory=train_dir,\n",
    "    x_col=\"filename\",\n",
    "    y_col=\"label\",\n",
    "    batch_size=32,\n",
    "    # color_mode=\"rgb\",\n",
    "    seed=42,\n",
    "    shuffle=True,\n",
    "    class_mode=\"sparse\",\n",
    "    target_size=IMAGE_SIZE\n",
    ")\n",
    "\n",
    "test_datagen=ImageDataGenerator(rescale=1./255.)\n",
    "\n",
    "test_generator=test_datagen.flow_from_dataframe(\n",
    "    dataframe=test,\n",
    "    directory=test_dir,\n",
    "    x_col=\"filename\",\n",
    "    y_col=None,\n",
    "    batch_size=1,\n",
    "    # color_mode=\"rgb\",\n",
    "    seed=42,\n",
    "    shuffle=False,\n",
    "    class_mode=None,\n",
    "    target_size=IMAGE_SIZE\n",
    ")"
   ]
  },
  {
   "cell_type": "markdown",
   "id": "89969a0e",
   "metadata": {
    "id": "kcCsbctMVnnA",
    "papermill": {
     "duration": 0.00705,
     "end_time": "2023-01-06T08:32:48.627648",
     "exception": false,
     "start_time": "2023-01-06T08:32:48.620598",
     "status": "completed"
    },
    "tags": []
   },
   "source": [
    "# EfficientNetV2B0"
   ]
  },
  {
   "cell_type": "markdown",
   "id": "fb0ce7fd",
   "metadata": {
    "papermill": {
     "duration": 0.006985,
     "end_time": "2023-01-06T08:32:48.642310",
     "exception": false,
     "start_time": "2023-01-06T08:32:48.635325",
     "status": "completed"
    },
    "tags": []
   },
   "source": [
    "## Training"
   ]
  },
  {
   "cell_type": "code",
   "execution_count": 15,
   "id": "3d0426c3",
   "metadata": {
    "execution": {
     "iopub.execute_input": "2023-01-06T08:32:48.659142Z",
     "iopub.status.busy": "2023-01-06T08:32:48.658164Z",
     "iopub.status.idle": "2023-01-06T08:32:53.840064Z",
     "shell.execute_reply": "2023-01-06T08:32:53.838921Z"
    },
    "papermill": {
     "duration": 5.192745,
     "end_time": "2023-01-06T08:32:53.842347",
     "exception": false,
     "start_time": "2023-01-06T08:32:48.649602",
     "status": "completed"
    },
    "tags": []
   },
   "outputs": [
    {
     "name": "stderr",
     "output_type": "stream",
     "text": [
      "2023-01-06 08:32:48.777776: I tensorflow/stream_executor/cuda/cuda_gpu_executor.cc:937] successful NUMA node read from SysFS had negative value (-1), but there must be at least one NUMA node, so returning NUMA node zero\n",
      "2023-01-06 08:32:48.889253: I tensorflow/stream_executor/cuda/cuda_gpu_executor.cc:937] successful NUMA node read from SysFS had negative value (-1), but there must be at least one NUMA node, so returning NUMA node zero\n",
      "2023-01-06 08:32:48.890088: I tensorflow/stream_executor/cuda/cuda_gpu_executor.cc:937] successful NUMA node read from SysFS had negative value (-1), but there must be at least one NUMA node, so returning NUMA node zero\n",
      "2023-01-06 08:32:48.891464: I tensorflow/core/platform/cpu_feature_guard.cc:142] This TensorFlow binary is optimized with oneAPI Deep Neural Network Library (oneDNN) to use the following CPU instructions in performance-critical operations:  AVX2 AVX512F FMA\n",
      "To enable them in other operations, rebuild TensorFlow with the appropriate compiler flags.\n",
      "2023-01-06 08:32:48.891823: I tensorflow/stream_executor/cuda/cuda_gpu_executor.cc:937] successful NUMA node read from SysFS had negative value (-1), but there must be at least one NUMA node, so returning NUMA node zero\n",
      "2023-01-06 08:32:48.892580: I tensorflow/stream_executor/cuda/cuda_gpu_executor.cc:937] successful NUMA node read from SysFS had negative value (-1), but there must be at least one NUMA node, so returning NUMA node zero\n",
      "2023-01-06 08:32:48.893229: I tensorflow/stream_executor/cuda/cuda_gpu_executor.cc:937] successful NUMA node read from SysFS had negative value (-1), but there must be at least one NUMA node, so returning NUMA node zero\n",
      "2023-01-06 08:32:51.147747: I tensorflow/stream_executor/cuda/cuda_gpu_executor.cc:937] successful NUMA node read from SysFS had negative value (-1), but there must be at least one NUMA node, so returning NUMA node zero\n",
      "2023-01-06 08:32:51.148606: I tensorflow/stream_executor/cuda/cuda_gpu_executor.cc:937] successful NUMA node read from SysFS had negative value (-1), but there must be at least one NUMA node, so returning NUMA node zero\n",
      "2023-01-06 08:32:51.149356: I tensorflow/stream_executor/cuda/cuda_gpu_executor.cc:937] successful NUMA node read from SysFS had negative value (-1), but there must be at least one NUMA node, so returning NUMA node zero\n",
      "2023-01-06 08:32:51.149953: I tensorflow/core/common_runtime/gpu/gpu_device.cc:1510] Created device /job:localhost/replica:0/task:0/device:GPU:0 with 15401 MB memory:  -> device: 0, name: Tesla P100-PCIE-16GB, pci bus id: 0000:00:04.0, compute capability: 6.0\n"
     ]
    },
    {
     "name": "stdout",
     "output_type": "stream",
     "text": [
      "Downloading data from https://storage.googleapis.com/keras-applications/efficientnetb0_notop.h5\n",
      "16711680/16705208 [==============================] - 0s 0us/step\n",
      "16719872/16705208 [==============================] - 0s 0us/step\n",
      "Model: \"efficientnet_model\"\n",
      "_________________________________________________________________\n",
      "Layer (type)                 Output Shape              Param #   \n",
      "=================================================================\n",
      "inputs (InputLayer)          [(None, 224, 224, 3)]     0         \n",
      "_________________________________________________________________\n",
      "efficientnetb0 (Functional)  (None, None, None, 1280)  4049571   \n",
      "_________________________________________________________________\n",
      "global_average_pooling2d (Gl (None, 1280)              0         \n",
      "_________________________________________________________________\n",
      "dropout (Dropout)            (None, 1280)              0         \n",
      "_________________________________________________________________\n",
      "dense (Dense)                (None, 27)                34587     \n",
      "=================================================================\n",
      "Total params: 4,084,158\n",
      "Trainable params: 34,587\n",
      "Non-trainable params: 4,049,571\n",
      "_________________________________________________________________\n"
     ]
    }
   ],
   "source": [
    "tf.keras.backend.clear_session()\n",
    "num_classes = 27\n",
    "\n",
    "backbone = tf.keras.applications.EfficientNetB0(include_top=False)\n",
    "backbone.trainable = False\n",
    "\n",
    "inputs = Input(shape=IMAGE_SIZE + (3,), name='inputs')\n",
    "x = backbone(inputs, training=False)\n",
    "x = GlobalAveragePooling2D()(x)\n",
    "x = Dropout(0.2)(x)\n",
    "# x = Dense(100, activation='relu')(x)\n",
    "outputs = Dense(27, activation='softmax')(x)\n",
    "\n",
    "model_efficientnet = tf.keras.Model(inputs=inputs, outputs=outputs, name='efficientnet_model')\n",
    "model_efficientnet.summary()"
   ]
  },
  {
   "cell_type": "code",
   "execution_count": 16,
   "id": "77204a38",
   "metadata": {
    "execution": {
     "iopub.execute_input": "2023-01-06T08:32:53.860233Z",
     "iopub.status.busy": "2023-01-06T08:32:53.859854Z",
     "iopub.status.idle": "2023-01-06T08:33:00.321013Z",
     "shell.execute_reply": "2023-01-06T08:33:00.319843Z"
    },
    "papermill": {
     "duration": 6.473062,
     "end_time": "2023-01-06T08:33:00.323606",
     "exception": false,
     "start_time": "2023-01-06T08:32:53.850544",
     "status": "completed"
    },
    "tags": []
   },
   "outputs": [
    {
     "name": "stdout",
     "output_type": "stream",
     "text": [
      "Model: \"sequential\"\n",
      "_________________________________________________________________\n",
      "Layer (type)                 Output Shape              Param #   \n",
      "=================================================================\n",
      "feature_extraction_layer (Ke (None, 1280)              5919312   \n",
      "_________________________________________________________________\n",
      "dropout (Dropout)            (None, 1280)              0         \n",
      "_________________________________________________________________\n",
      "dense (Dense)                (None, 27)                34587     \n",
      "=================================================================\n",
      "Total params: 5,953,899\n",
      "Trainable params: 34,587\n",
      "Non-trainable params: 5,919,312\n",
      "_________________________________________________________________\n"
     ]
    }
   ],
   "source": [
    "tf.keras.backend.clear_session()\n",
    "num_classes = 27\n",
    "model_url = 'https://tfhub.dev/google/imagenet/efficientnet_v2_imagenet1k_b0/feature_vector/2'\n",
    "\n",
    "feature_extractor_layer = hub.KerasLayer(model_url,\n",
    "                                         trainable=False, # freeze the underlying patterns\n",
    "                                         name='feature_extraction_layer',\n",
    "                                         input_shape=IMAGE_SIZE + (3,))\n",
    "# Create our own model\n",
    "# inputs = Input(shape=IMAGE_SIZE + (3,), name='inputs')\n",
    "# x = feature_extractor_layer(inputs, training=False)\n",
    "# x = Dropout(0.2)(x)\n",
    "# outputs = Dense(27, activation='softmax')(x)\n",
    "\n",
    "# model_efficientnet = tf.keras.Model(inputs=inputs, outputs=outputs, name='efficientnet_model')\n",
    "\n",
    "model_efficientnet = tf.keras.Sequential([\n",
    "    feature_extractor_layer, # use the feature extraction layer as the base\n",
    "    Dropout(0.2),\n",
    "    Dense(num_classes, activation='softmax') # create our own output layer      \n",
    "])\n",
    "\n",
    "model_efficientnet.summary()"
   ]
  },
  {
   "cell_type": "code",
   "execution_count": 17,
   "id": "87f31e00",
   "metadata": {
    "execution": {
     "iopub.execute_input": "2023-01-06T08:33:00.341307Z",
     "iopub.status.busy": "2023-01-06T08:33:00.341028Z",
     "iopub.status.idle": "2023-01-06T08:33:00.352685Z",
     "shell.execute_reply": "2023-01-06T08:33:00.351707Z"
    },
    "id": "jWiTtlADSWJi",
    "papermill": {
     "duration": 0.023074,
     "end_time": "2023-01-06T08:33:00.354776",
     "exception": false,
     "start_time": "2023-01-06T08:33:00.331702",
     "status": "completed"
    },
    "tags": []
   },
   "outputs": [],
   "source": [
    "model_efficientnet.compile(optimizer=keras.optimizers.Adam(),\n",
    "                           loss='sparse_categorical_crossentropy',\n",
    "                           metrics=[\"accuracy\"])"
   ]
  },
  {
   "cell_type": "code",
   "execution_count": 18,
   "id": "a10c5387",
   "metadata": {
    "execution": {
     "iopub.execute_input": "2023-01-06T08:33:00.372750Z",
     "iopub.status.busy": "2023-01-06T08:33:00.371111Z",
     "iopub.status.idle": "2023-01-06T11:23:11.542250Z",
     "shell.execute_reply": "2023-01-06T11:23:11.541264Z"
    },
    "id": "jxmjDgwiSWJi",
    "outputId": "67a38c56-b953-40ef-fb48-df158af73f61",
    "papermill": {
     "duration": 10211.18244,
     "end_time": "2023-01-06T11:23:11.545039",
     "exception": false,
     "start_time": "2023-01-06T08:33:00.362599",
     "status": "completed"
    },
    "tags": []
   },
   "outputs": [
    {
     "name": "stderr",
     "output_type": "stream",
     "text": [
      "2023-01-06 08:33:01.502070: I tensorflow/compiler/mlir/mlir_graph_optimization_pass.cc:185] None of the MLIR Optimization Passes are enabled (registered 2)\n"
     ]
    },
    {
     "name": "stdout",
     "output_type": "stream",
     "text": [
      "Epoch 1/20\n"
     ]
    },
    {
     "name": "stderr",
     "output_type": "stream",
     "text": [
      "2023-01-06 08:33:09.749165: I tensorflow/stream_executor/cuda/cuda_dnn.cc:369] Loaded cuDNN version 8005\n"
     ]
    },
    {
     "name": "stdout",
     "output_type": "stream",
     "text": [
      "608/608 [==============================] - 714s 1s/step - loss: 1.7488 - accuracy: 0.5698 - val_loss: 1.0928 - val_accuracy: 0.7626\n",
      "Epoch 2/20\n",
      "608/608 [==============================] - 493s 811ms/step - loss: 0.9571 - accuracy: 0.7684 - val_loss: 0.8192 - val_accuracy: 0.8109\n",
      "Epoch 3/20\n",
      "608/608 [==============================] - 491s 808ms/step - loss: 0.7490 - accuracy: 0.8134 - val_loss: 0.6701 - val_accuracy: 0.8451\n",
      "Epoch 4/20\n",
      "608/608 [==============================] - 499s 821ms/step - loss: 0.6413 - accuracy: 0.8355 - val_loss: 0.6055 - val_accuracy: 0.8486\n",
      "Epoch 5/20\n",
      "608/608 [==============================] - 487s 801ms/step - loss: 0.5730 - accuracy: 0.8519 - val_loss: 0.5650 - val_accuracy: 0.8562\n",
      "Epoch 6/20\n",
      "608/608 [==============================] - 486s 799ms/step - loss: 0.5229 - accuracy: 0.8580 - val_loss: 0.5226 - val_accuracy: 0.8599\n",
      "Epoch 7/20\n",
      "608/608 [==============================] - 481s 791ms/step - loss: 0.4897 - accuracy: 0.8673 - val_loss: 0.4817 - val_accuracy: 0.8702\n",
      "Epoch 8/20\n",
      "608/608 [==============================] - 481s 791ms/step - loss: 0.4586 - accuracy: 0.8751 - val_loss: 0.4687 - val_accuracy: 0.8778\n",
      "Epoch 9/20\n",
      "608/608 [==============================] - 477s 785ms/step - loss: 0.4399 - accuracy: 0.8790 - val_loss: 0.4552 - val_accuracy: 0.8735\n",
      "Epoch 10/20\n",
      "608/608 [==============================] - 483s 795ms/step - loss: 0.4202 - accuracy: 0.8825 - val_loss: 0.4390 - val_accuracy: 0.8819\n",
      "Epoch 11/20\n",
      "608/608 [==============================] - 479s 788ms/step - loss: 0.4080 - accuracy: 0.8859 - val_loss: 0.4270 - val_accuracy: 0.8842\n",
      "Epoch 12/20\n",
      "608/608 [==============================] - 493s 810ms/step - loss: 0.3968 - accuracy: 0.8836 - val_loss: 0.4192 - val_accuracy: 0.8815\n",
      "Epoch 13/20\n",
      "608/608 [==============================] - 486s 799ms/step - loss: 0.3824 - accuracy: 0.8870 - val_loss: 0.3977 - val_accuracy: 0.8835\n",
      "Epoch 14/20\n",
      "608/608 [==============================] - 502s 826ms/step - loss: 0.3651 - accuracy: 0.8942 - val_loss: 0.3997 - val_accuracy: 0.8866\n",
      "Epoch 15/20\n",
      "608/608 [==============================] - 485s 798ms/step - loss: 0.3547 - accuracy: 0.8973 - val_loss: 0.3747 - val_accuracy: 0.8930\n",
      "Epoch 16/20\n",
      "608/608 [==============================] - 489s 804ms/step - loss: 0.3511 - accuracy: 0.8989 - val_loss: 0.3943 - val_accuracy: 0.8877\n",
      "Epoch 17/20\n",
      "608/608 [==============================] - 488s 803ms/step - loss: 0.3439 - accuracy: 0.8986 - val_loss: 0.3714 - val_accuracy: 0.8971\n",
      "Epoch 18/20\n",
      "608/608 [==============================] - 497s 818ms/step - loss: 0.3367 - accuracy: 0.9012 - val_loss: 0.3806 - val_accuracy: 0.8934\n",
      "Epoch 19/20\n",
      "608/608 [==============================] - 499s 820ms/step - loss: 0.3271 - accuracy: 0.9013 - val_loss: 0.3700 - val_accuracy: 0.8959\n",
      "Epoch 20/20\n",
      "608/608 [==============================] - 520s 856ms/step - loss: 0.3302 - accuracy: 0.9019 - val_loss: 0.3700 - val_accuracy: 0.8942\n"
     ]
    }
   ],
   "source": [
    "cb = [\n",
    "#     callbacks.EarlyStopping(monitor='val_loss', patience=5, restore_best_weights=True),\n",
    "    callbacks.ModelCheckpoint('model_efficientnet.h5', save_best_only=True, monitor='val_loss')\n",
    "]\n",
    "\n",
    "history_efficientnet = model_efficientnet.fit(\n",
    "    train_generator,\n",
    "    validation_data = valid_generator,\n",
    "    epochs = 20,\n",
    "    batch_size = 32,\n",
    "    verbose = 1,\n",
    "    callbacks = cb\n",
    ")"
   ]
  },
  {
   "cell_type": "code",
   "execution_count": 19,
   "id": "296cff4c",
   "metadata": {
    "execution": {
     "iopub.execute_input": "2023-01-06T11:23:12.832340Z",
     "iopub.status.busy": "2023-01-06T11:23:12.831983Z",
     "iopub.status.idle": "2023-01-06T11:23:13.207341Z",
     "shell.execute_reply": "2023-01-06T11:23:13.206388Z"
    },
    "id": "1lFF1m_gSWJi",
    "papermill": {
     "duration": 1.015483,
     "end_time": "2023-01-06T11:23:13.209722",
     "exception": false,
     "start_time": "2023-01-06T11:23:12.194239",
     "status": "completed"
    },
    "tags": []
   },
   "outputs": [
    {
     "data": {
      "image/png": "[encoded data removed]",
      "text/plain": [
       "<Figure size 864x432 with 2 Axes>"
      ]
     },
     "metadata": {
      "needs_background": "light"
     },
     "output_type": "display_data"
    }
   ],
   "source": [
    "fig, ax = plt.subplots(nrows = 1, ncols = 2, figsize = (12,6))\n",
    "\n",
    "ax[0].plot(history_efficientnet.history['accuracy'], '-', label = 'Training Accuracy')\n",
    "ax[0].plot(history_efficientnet.history['val_accuracy'], '-', label = 'Validation Accuracy')\n",
    "ax[0].set_xlabel('Epochs')\n",
    "ax[0].set_ylabel('Accuracy')\n",
    "ax[0].set_title('Epochs & Training Accuracy', fontsize=20)\n",
    "ax[0].legend(loc='best')\n",
    "\n",
    "ax[1].plot(history_efficientnet.history['loss'], '-', label = 'Training loss')\n",
    "ax[1].plot(history_efficientnet.history['val_loss'], '-', label = 'Validation loss')\n",
    "ax[1].set_xlabel('Epochs')\n",
    "ax[1].set_ylabel('loss')\n",
    "ax[1].set_title('Epochs & Training loss', fontsize=20)\n",
    "ax[1].legend(loc='best')\n",
    "\n",
    "plt.show()"
   ]
  },
  {
   "cell_type": "code",
   "execution_count": 20,
   "id": "3d225354",
   "metadata": {
    "execution": {
     "iopub.execute_input": "2023-01-06T11:23:14.561405Z",
     "iopub.status.busy": "2023-01-06T11:23:14.561049Z",
     "iopub.status.idle": "2023-01-06T11:23:14.565683Z",
     "shell.execute_reply": "2023-01-06T11:23:14.564655Z"
    },
    "id": "fn3ZJHoISWJi",
    "papermill": {
     "duration": 0.650755,
     "end_time": "2023-01-06T11:23:14.567702",
     "exception": false,
     "start_time": "2023-01-06T11:23:13.916947",
     "status": "completed"
    },
    "tags": []
   },
   "outputs": [],
   "source": [
    "model_loaded = model_efficientnet"
   ]
  },
  {
   "cell_type": "code",
   "execution_count": 21,
   "id": "d5c36ee3",
   "metadata": {
    "execution": {
     "iopub.execute_input": "2023-01-06T11:23:15.944117Z",
     "iopub.status.busy": "2023-01-06T11:23:15.943062Z",
     "iopub.status.idle": "2023-01-06T11:24:20.890651Z",
     "shell.execute_reply": "2023-01-06T11:24:20.889492Z"
    },
    "id": "HYCXPIKzSWJi",
    "papermill": {
     "duration": 65.675939,
     "end_time": "2023-01-06T11:24:20.893416",
     "exception": false,
     "start_time": "2023-01-06T11:23:15.217477",
     "status": "completed"
    },
    "tags": []
   },
   "outputs": [
    {
     "name": "stdout",
     "output_type": "stream",
     "text": [
      "2700/2700 [==============================] - 65s 24ms/step\n"
     ]
    }
   ],
   "source": [
    "test_generator.reset()\n",
    "pred = model_loaded.predict(test_generator, verbose=1)"
   ]
  },
  {
   "cell_type": "code",
   "execution_count": 22,
   "id": "9c5b7bee",
   "metadata": {
    "execution": {
     "iopub.execute_input": "2023-01-06T11:24:22.312654Z",
     "iopub.status.busy": "2023-01-06T11:24:22.312228Z",
     "iopub.status.idle": "2023-01-06T11:24:22.357381Z",
     "shell.execute_reply": "2023-01-06T11:24:22.356289Z"
    },
    "id": "_rKaiG8fSWJi",
    "papermill": {
     "duration": 0.757305,
     "end_time": "2023-01-06T11:24:22.359443",
     "exception": false,
     "start_time": "2023-01-06T11:24:21.602138",
     "status": "completed"
    },
    "tags": []
   },
   "outputs": [
    {
     "name": "stdout",
     "output_type": "stream",
     "text": [
      "0.9222222222222223\n",
      "              precision    recall  f1-score   support\n",
      "\n",
      "           A       0.94      0.97      0.96       100\n",
      "           B       0.99      0.92      0.95       100\n",
      "       Blank       1.00      0.98      0.99       100\n",
      "           C       0.99      0.98      0.98       100\n",
      "           D       0.94      0.88      0.91       100\n",
      "           E       0.91      0.94      0.93       100\n",
      "           F       0.94      0.94      0.94       100\n",
      "           G       0.91      0.96      0.93       100\n",
      "           H       0.98      1.00      0.99       100\n",
      "           I       0.91      0.89      0.90       100\n",
      "           J       0.86      0.93      0.89       100\n",
      "           K       0.94      0.88      0.91       100\n",
      "           L       0.98      0.94      0.96       100\n",
      "           M       0.80      0.90      0.85       100\n",
      "           N       0.87      0.82      0.85       100\n",
      "           O       0.97      0.99      0.98       100\n",
      "           P       0.92      0.95      0.94       100\n",
      "           Q       0.94      0.82      0.88       100\n",
      "           R       0.96      0.94      0.95       100\n",
      "           S       0.99      0.80      0.88       100\n",
      "           T       0.85      0.97      0.91       100\n",
      "           U       0.88      0.94      0.91       100\n",
      "           V       0.81      0.90      0.85       100\n",
      "           W       0.92      0.87      0.89       100\n",
      "           X       0.84      0.92      0.88       100\n",
      "           Y       0.97      0.96      0.96       100\n",
      "           Z       0.97      0.91      0.94       100\n",
      "\n",
      "    accuracy                           0.92      2700\n",
      "   macro avg       0.93      0.92      0.92      2700\n",
      "weighted avg       0.93      0.92      0.92      2700\n",
      "\n"
     ]
    }
   ],
   "source": [
    "pred = np.argmax(pred,axis=1)\n",
    "labels = (train_generator.class_indices)\n",
    "labels = dict((v,k) for k,v in labels.items())\n",
    "pred = [labels[k] for k in pred]\n",
    "\n",
    "print(accuracy_score(test['label'], pred))\n",
    "print(classification_report(test['label'], pred))"
   ]
  },
  {
   "cell_type": "markdown",
   "id": "31a5a749",
   "metadata": {
    "papermill": {
     "duration": 0.69993,
     "end_time": "2023-01-06T11:24:23.841015",
     "exception": false,
     "start_time": "2023-01-06T11:24:23.141085",
     "status": "completed"
    },
    "tags": []
   },
   "source": [
    "## Fine-tuning"
   ]
  },
  {
   "cell_type": "code",
   "execution_count": 23,
   "id": "27a6071e",
   "metadata": {
    "execution": {
     "iopub.execute_input": "2023-01-06T11:24:25.429055Z",
     "iopub.status.busy": "2023-01-06T11:24:25.428612Z",
     "iopub.status.idle": "2023-01-06T11:24:25.443695Z",
     "shell.execute_reply": "2023-01-06T11:24:25.442613Z"
    },
    "papermill": {
     "duration": 0.823963,
     "end_time": "2023-01-06T11:24:25.446051",
     "exception": false,
     "start_time": "2023-01-06T11:24:24.622088",
     "status": "completed"
    },
    "tags": []
   },
   "outputs": [],
   "source": [
    "feature_extractor_layer.trainable = True\n",
    "\n",
    "model_efficientnet.compile(optimizer=keras.optimizers.Adam(learning_rate=1e-5),\n",
    "                           loss='sparse_categorical_crossentropy',\n",
    "                           metrics=[\"accuracy\"])"
   ]
  },
  {
   "cell_type": "code",
   "execution_count": 24,
   "id": "cf55d1f2",
   "metadata": {
    "execution": {
     "iopub.execute_input": "2023-01-06T11:24:27.040369Z",
     "iopub.status.busy": "2023-01-06T11:24:27.039985Z",
     "iopub.status.idle": "2023-01-06T12:55:01.728483Z",
     "shell.execute_reply": "2023-01-06T12:55:01.727359Z"
    },
    "papermill": {
     "duration": 5435.947199,
     "end_time": "2023-01-06T12:55:02.210038",
     "exception": false,
     "start_time": "2023-01-06T11:24:26.262839",
     "status": "completed"
    },
    "tags": []
   },
   "outputs": [
    {
     "name": "stdout",
     "output_type": "stream",
     "text": [
      "Epoch 1/10\n",
      "608/608 [==============================] - 518s 834ms/step - loss: 1.2017 - accuracy: 0.6690 - val_loss: 0.2236 - val_accuracy: 0.9292\n",
      "Epoch 2/10\n",
      "608/608 [==============================] - 526s 866ms/step - loss: 0.3864 - accuracy: 0.8756 - val_loss: 0.0874 - val_accuracy: 0.9753\n",
      "Epoch 3/10\n",
      "608/608 [==============================] - 554s 911ms/step - loss: 0.2046 - accuracy: 0.9336 - val_loss: 0.0442 - val_accuracy: 0.9858\n",
      "Epoch 4/10\n",
      "608/608 [==============================] - 534s 879ms/step - loss: 0.1134 - accuracy: 0.9632 - val_loss: 0.0265 - val_accuracy: 0.9922\n",
      "Epoch 5/10\n",
      "608/608 [==============================] - 527s 867ms/step - loss: 0.0789 - accuracy: 0.9738 - val_loss: 0.0195 - val_accuracy: 0.9947\n",
      "Epoch 6/10\n",
      "608/608 [==============================] - 525s 864ms/step - loss: 0.0608 - accuracy: 0.9801 - val_loss: 0.0158 - val_accuracy: 0.9953\n",
      "Epoch 7/10\n",
      "608/608 [==============================] - 526s 864ms/step - loss: 0.0431 - accuracy: 0.9857 - val_loss: 0.0119 - val_accuracy: 0.9971\n",
      "Epoch 8/10\n",
      "608/608 [==============================] - 516s 848ms/step - loss: 0.0322 - accuracy: 0.9898 - val_loss: 0.0069 - val_accuracy: 0.9984\n",
      "Epoch 9/10\n",
      "608/608 [==============================] - 524s 860ms/step - loss: 0.0283 - accuracy: 0.9917 - val_loss: 0.0072 - val_accuracy: 0.9988\n",
      "Epoch 10/10\n",
      "608/608 [==============================] - 509s 836ms/step - loss: 0.0207 - accuracy: 0.9935 - val_loss: 0.0067 - val_accuracy: 0.9984\n"
     ]
    }
   ],
   "source": [
    "cb = [\n",
    "#     callbacks.EarlyStopping(monitor='val_loss', patience=5, restore_best_weights=True),\n",
    "    callbacks.ModelCheckpoint('model_efficientnet_finetuned.h5', save_best_only=True, monitor='val_loss')\n",
    "]\n",
    "\n",
    "train_generator.reset()\n",
    "valid_generator.reset()\n",
    "\n",
    "history_efficientnet_2 = model_efficientnet.fit(\n",
    "    train_generator,\n",
    "    validation_data = valid_generator,\n",
    "    epochs = 10,\n",
    "    batch_size = 32,\n",
    "    verbose = 1,\n",
    "    callbacks = cb\n",
    ")"
   ]
  },
  {
   "cell_type": "code",
   "execution_count": 25,
   "id": "10bf0aae",
   "metadata": {
    "execution": {
     "iopub.execute_input": "2023-01-06T12:55:04.400221Z",
     "iopub.status.busy": "2023-01-06T12:55:04.399799Z",
     "iopub.status.idle": "2023-01-06T12:55:04.754629Z",
     "shell.execute_reply": "2023-01-06T12:55:04.753613Z"
    },
    "papermill": {
     "duration": 1.408879,
     "end_time": "2023-01-06T12:55:04.757025",
     "exception": false,
     "start_time": "2023-01-06T12:55:03.348146",
     "status": "completed"
    },
    "tags": []
   },
   "outputs": [
    {
     "data": {
      "image/png": "[encoded data removed]",
      "text/plain": [
       "<Figure size 864x432 with 2 Axes>"
      ]
     },
     "metadata": {
      "needs_background": "light"
     },
     "output_type": "display_data"
    }
   ],
   "source": [
    "fig, ax = plt.subplots(nrows = 1, ncols = 2, figsize = (12,6))\n",
    "\n",
    "ax[0].plot(history_efficientnet_2.history['accuracy'], '-', label = 'Training Accuracy')\n",
    "ax[0].plot(history_efficientnet_2.history['val_accuracy'], '-', label = 'Validation Accuracy')\n",
    "ax[0].set_xlabel('Epochs')\n",
    "ax[0].set_ylabel('Accuracy')\n",
    "ax[0].set_title('Epochs & Training Accuracy', fontsize=20)\n",
    "ax[0].legend(loc='best')\n",
    "\n",
    "ax[1].plot(history_efficientnet_2.history['loss'], '-', label = 'Training loss')\n",
    "ax[1].plot(history_efficientnet_2.history['val_loss'], '-', label = 'Validation loss')\n",
    "ax[1].set_xlabel('Epochs')\n",
    "ax[1].set_ylabel('loss')\n",
    "ax[1].set_title('Epochs & Training loss', fontsize=20)\n",
    "ax[1].legend(loc='best')\n",
    "\n",
    "plt.show()"
   ]
  },
  {
   "cell_type": "code",
   "execution_count": 26,
   "id": "abc0bea1",
   "metadata": {
    "execution": {
     "iopub.execute_input": "2023-01-06T12:55:07.682188Z",
     "iopub.status.busy": "2023-01-06T12:55:07.681816Z",
     "iopub.status.idle": "2023-01-06T12:55:07.686834Z",
     "shell.execute_reply": "2023-01-06T12:55:07.685662Z"
    },
    "id": "fn3ZJHoISWJi",
    "papermill": {
     "duration": 1.648156,
     "end_time": "2023-01-06T12:55:07.689491",
     "exception": false,
     "start_time": "2023-01-06T12:55:06.041335",
     "status": "completed"
    },
    "tags": []
   },
   "outputs": [],
   "source": [
    "model_loaded = model_efficientnet"
   ]
  },
  {
   "cell_type": "code",
   "execution_count": 27,
   "id": "018836a5",
   "metadata": {
    "execution": {
     "iopub.execute_input": "2023-01-06T12:55:10.025282Z",
     "iopub.status.busy": "2023-01-06T12:55:10.024921Z",
     "iopub.status.idle": "2023-01-06T12:56:01.333488Z",
     "shell.execute_reply": "2023-01-06T12:56:01.332341Z"
    },
    "id": "HYCXPIKzSWJi",
    "papermill": {
     "duration": 52.359755,
     "end_time": "2023-01-06T12:56:01.336094",
     "exception": false,
     "start_time": "2023-01-06T12:55:08.976339",
     "status": "completed"
    },
    "tags": []
   },
   "outputs": [
    {
     "name": "stdout",
     "output_type": "stream",
     "text": [
      "2700/2700 [==============================] - 51s 19ms/step\n"
     ]
    }
   ],
   "source": [
    "test_generator.reset()\n",
    "pred = model_loaded.predict(test_generator, verbose=1)"
   ]
  },
  {
   "cell_type": "code",
   "execution_count": 28,
   "id": "2bb968c0",
   "metadata": {
    "execution": {
     "iopub.execute_input": "2023-01-06T12:56:04.008558Z",
     "iopub.status.busy": "2023-01-06T12:56:04.008201Z",
     "iopub.status.idle": "2023-01-06T12:56:04.054149Z",
     "shell.execute_reply": "2023-01-06T12:56:04.053015Z"
    },
    "id": "_rKaiG8fSWJi",
    "papermill": {
     "duration": 1.409953,
     "end_time": "2023-01-06T12:56:04.056386",
     "exception": false,
     "start_time": "2023-01-06T12:56:02.646433",
     "status": "completed"
    },
    "tags": []
   },
   "outputs": [
    {
     "name": "stdout",
     "output_type": "stream",
     "text": [
      "0.9992592592592593\n",
      "              precision    recall  f1-score   support\n",
      "\n",
      "           A       1.00      1.00      1.00       100\n",
      "           B       1.00      1.00      1.00       100\n",
      "       Blank       1.00      1.00      1.00       100\n",
      "           C       1.00      1.00      1.00       100\n",
      "           D       1.00      1.00      1.00       100\n",
      "           E       1.00      1.00      1.00       100\n",
      "           F       1.00      1.00      1.00       100\n",
      "           G       0.98      1.00      0.99       100\n",
      "           H       1.00      1.00      1.00       100\n",
      "           I       1.00      1.00      1.00       100\n",
      "           J       1.00      0.99      0.99       100\n",
      "           K       1.00      1.00      1.00       100\n",
      "           L       1.00      1.00      1.00       100\n",
      "           M       1.00      1.00      1.00       100\n",
      "           N       1.00      1.00      1.00       100\n",
      "           O       1.00      1.00      1.00       100\n",
      "           P       1.00      1.00      1.00       100\n",
      "           Q       1.00      0.99      0.99       100\n",
      "           R       1.00      1.00      1.00       100\n",
      "           S       1.00      1.00      1.00       100\n",
      "           T       1.00      1.00      1.00       100\n",
      "           U       1.00      1.00      1.00       100\n",
      "           V       1.00      1.00      1.00       100\n",
      "           W       1.00      1.00      1.00       100\n",
      "           X       1.00      1.00      1.00       100\n",
      "           Y       1.00      1.00      1.00       100\n",
      "           Z       1.00      1.00      1.00       100\n",
      "\n",
      "    accuracy                           1.00      2700\n",
      "   macro avg       1.00      1.00      1.00      2700\n",
      "weighted avg       1.00      1.00      1.00      2700\n",
      "\n"
     ]
    }
   ],
   "source": [
    "pred = np.argmax(pred,axis=1)\n",
    "labels = (train_generator.class_indices)\n",
    "labels = dict((v,k) for k,v in labels.items())\n",
    "pred = [labels[k] for k in pred]\n",
    "\n",
    "print(accuracy_score(test['label'], pred))\n",
    "print(classification_report(test['label'], pred))"
   ]
  }
 ],
 "metadata": {
  "kernelspec": {
   "display_name": "Python 3 (ipykernel)",
   "language": "python",
   "name": "python3"
  },
  "language_info": {
   "codemirror_mode": {
    "name": "ipython",
    "version": 3
   },
   "file_extension": ".py",
   "mimetype": "text/x-python",
   "name": "python",
   "nbconvert_exporter": "python",
   "pygments_lexer": "ipython3",
   "version": "3.10.12"
  },
  "papermill": {
   "default_parameters": {},
   "duration": 15889.646121,
   "end_time": "2023-01-06T12:56:11.061768",
   "environment_variables": {},
   "exception": null,
   "input_path": "__notebook__.ipynb",
   "output_path": "__notebook__.ipynb",
   "parameters": {},
   "start_time": "2023-01-06T08:31:21.415647",
   "version": "2.3.4"
  }
 },
 "nbformat": 4,
 "nbformat_minor": 5
}
